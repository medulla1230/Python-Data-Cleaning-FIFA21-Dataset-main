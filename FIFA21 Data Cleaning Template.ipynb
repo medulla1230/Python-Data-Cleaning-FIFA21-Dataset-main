{
 "cells": [
  {
   "cell_type": "markdown",
   "id": "9e6ab0a7",
   "metadata": {},
   "source": [
    "### Import Libraries"
   ]
  },
  {
   "cell_type": "code",
   "execution_count": null,
   "id": "13c9c36d",
   "metadata": {},
   "outputs": [],
   "source": []
  },
  {
   "cell_type": "markdown",
   "id": "e7e49d0d",
   "metadata": {},
   "source": [
    "# Data Cleaning\n",
    "\n",
    "### Create a copy of DataFrame"
   ]
  },
  {
   "cell_type": "code",
   "execution_count": null,
   "id": "d4ed5c4c",
   "metadata": {},
   "outputs": [],
   "source": []
  },
  {
   "cell_type": "markdown",
   "id": "ac104434",
   "metadata": {},
   "source": [
    "### 1. ID\n",
    "\n",
    "Unique identifier for each player."
   ]
  },
  {
   "cell_type": "code",
   "execution_count": null,
   "id": "67048c4f",
   "metadata": {},
   "outputs": [],
   "source": []
  },
  {
   "cell_type": "markdown",
   "id": "1e7d6e26",
   "metadata": {},
   "source": [
    "### 2. Name\n",
    "\n",
    "Player's name"
   ]
  },
  {
   "cell_type": "code",
   "execution_count": null,
   "id": "afaa689c",
   "metadata": {},
   "outputs": [],
   "source": []
  },
  {
   "cell_type": "markdown",
   "id": "890bb9f5",
   "metadata": {},
   "source": [
    "### 3. LongName\n",
    "\n",
    "Player's full name"
   ]
  },
  {
   "cell_type": "code",
   "execution_count": null,
   "id": "069a98ce",
   "metadata": {},
   "outputs": [],
   "source": []
  },
  {
   "cell_type": "markdown",
   "id": "5d869f44",
   "metadata": {},
   "source": [
    "### 4. photoURL\n",
    "\n",
    "URL to player's photo"
   ]
  },
  {
   "cell_type": "code",
   "execution_count": null,
   "id": "9a78dcef",
   "metadata": {},
   "outputs": [],
   "source": []
  },
  {
   "cell_type": "markdown",
   "id": "e96eed00",
   "metadata": {},
   "source": [
    "### 5. playerURL\n",
    "\n",
    "URL to player's profile"
   ]
  },
  {
   "cell_type": "code",
   "execution_count": null,
   "id": "69bb0a3d",
   "metadata": {},
   "outputs": [],
   "source": []
  },
  {
   "cell_type": "markdown",
   "id": "1b6939be",
   "metadata": {},
   "source": [
    "### 6. Nationality\n",
    "\n",
    "Player's nationality"
   ]
  },
  {
   "cell_type": "code",
   "execution_count": null,
   "id": "1ebf1954",
   "metadata": {},
   "outputs": [],
   "source": []
  },
  {
   "cell_type": "markdown",
   "id": "f0b749ca",
   "metadata": {},
   "source": [
    "### 7. Age\n",
    "\n",
    "Player's age in years"
   ]
  },
  {
   "cell_type": "code",
   "execution_count": null,
   "id": "051cca83",
   "metadata": {},
   "outputs": [],
   "source": []
  },
  {
   "cell_type": "markdown",
   "id": "ed393791",
   "metadata": {},
   "source": [
    "### 8. OVA - Overall Rating (0-100)\n",
    "\n",
    "It is a rating system used to represent a player's overall abilities and skills in the game."
   ]
  },
  {
   "cell_type": "code",
   "execution_count": null,
   "id": "58723895",
   "metadata": {},
   "outputs": [],
   "source": []
  },
  {
   "cell_type": "markdown",
   "id": "ad4e1d45",
   "metadata": {},
   "source": [
    "### 9. POT - Potential Rating(0-100)\n",
    "\n",
    "Represent a player's potential to develop and improve their abilities and skills over time."
   ]
  },
  {
   "cell_type": "code",
   "execution_count": null,
   "id": "d4512e89",
   "metadata": {},
   "outputs": [],
   "source": []
  },
  {
   "cell_type": "markdown",
   "id": "3f0315e9",
   "metadata": {},
   "source": [
    "### 10. Club\n",
    "\n",
    "Current Club of the player"
   ]
  },
  {
   "cell_type": "code",
   "execution_count": null,
   "id": "be67edf8",
   "metadata": {},
   "outputs": [],
   "source": []
  },
  {
   "cell_type": "markdown",
   "id": "a1aecb84",
   "metadata": {},
   "source": [
    "### 11. Contract column"
   ]
  },
  {
   "cell_type": "code",
   "execution_count": null,
   "id": "78b05ceb",
   "metadata": {},
   "outputs": [],
   "source": []
  },
  {
   "cell_type": "markdown",
   "id": "5edde554",
   "metadata": {},
   "source": [
    "### 12. Positions\n",
    "\n",
    "Player's preferred position on the field"
   ]
  },
  {
   "cell_type": "code",
   "execution_count": null,
   "id": "2bf59887",
   "metadata": {},
   "outputs": [],
   "source": []
  },
  {
   "cell_type": "markdown",
   "id": "459e0c1e",
   "metadata": {},
   "source": [
    "### 13. Height"
   ]
  },
  {
   "cell_type": "code",
   "execution_count": null,
   "id": "bb500535",
   "metadata": {},
   "outputs": [],
   "source": []
  },
  {
   "cell_type": "markdown",
   "id": "36f4c226",
   "metadata": {},
   "source": [
    "### 14. Weight"
   ]
  },
  {
   "cell_type": "code",
   "execution_count": null,
   "id": "99baf819",
   "metadata": {},
   "outputs": [],
   "source": []
  },
  {
   "cell_type": "markdown",
   "id": "fbeb8b25",
   "metadata": {},
   "source": [
    "### 15. Preferred Foot\n",
    "\n",
    "Player's preferred foot - Left or Right"
   ]
  },
  {
   "cell_type": "code",
   "execution_count": null,
   "id": "5ec9d3ca",
   "metadata": {},
   "outputs": [],
   "source": []
  },
  {
   "cell_type": "markdown",
   "id": "eee564fe",
   "metadata": {},
   "source": [
    "### 16. BOV\n",
    "\n",
    "Best Overall Rating of the Player in a specific position"
   ]
  },
  {
   "cell_type": "code",
   "execution_count": null,
   "id": "3fb40461",
   "metadata": {},
   "outputs": [],
   "source": []
  },
  {
   "cell_type": "markdown",
   "id": "d3e367a6",
   "metadata": {},
   "source": [
    "### 17. Best Position\n",
    "\n",
    "Player's best position on the field"
   ]
  },
  {
   "cell_type": "code",
   "execution_count": null,
   "id": "5a430bc9",
   "metadata": {},
   "outputs": [],
   "source": []
  },
  {
   "cell_type": "markdown",
   "id": "90639131",
   "metadata": {},
   "source": [
    "### 18. Joined\n",
    "\n",
    "Date when the player joined the current club"
   ]
  },
  {
   "cell_type": "code",
   "execution_count": null,
   "id": "be5d2afe",
   "metadata": {},
   "outputs": [],
   "source": []
  },
  {
   "cell_type": "markdown",
   "id": "291e8c57",
   "metadata": {},
   "source": [
    "### 19. Loan Date End\n",
    "\n",
    "Date when the player's loan ends (if On Loan)"
   ]
  },
  {
   "cell_type": "code",
   "execution_count": null,
   "id": "8a5fb28c",
   "metadata": {},
   "outputs": [],
   "source": []
  },
  {
   "cell_type": "markdown",
   "id": "2cdd3c06",
   "metadata": {},
   "source": [
    "### 20. Value\n",
    "\n",
    "Estimated market value of the player."
   ]
  },
  {
   "cell_type": "code",
   "execution_count": null,
   "id": "2b5f4da7",
   "metadata": {},
   "outputs": [],
   "source": []
  },
  {
   "cell_type": "markdown",
   "id": "8fc7435c",
   "metadata": {},
   "source": [
    "### 21. Wage\n",
    "\n",
    "Weekly wage of the player."
   ]
  },
  {
   "cell_type": "code",
   "execution_count": null,
   "id": "0d172378",
   "metadata": {},
   "outputs": [],
   "source": []
  },
  {
   "cell_type": "markdown",
   "id": "e8eed0b8",
   "metadata": {},
   "source": [
    "### 22. Release Clause\n",
    "\n",
    "Release clause in the player's contract"
   ]
  },
  {
   "cell_type": "code",
   "execution_count": null,
   "id": "03ca7ea7",
   "metadata": {},
   "outputs": [],
   "source": []
  },
  {
   "cell_type": "markdown",
   "id": "28904248",
   "metadata": {},
   "source": [
    "### 23. Attacking\n",
    "\n",
    "Composite rating of the player's attacking ability."
   ]
  },
  {
   "cell_type": "code",
   "execution_count": null,
   "id": "f8496b25",
   "metadata": {},
   "outputs": [],
   "source": []
  },
  {
   "cell_type": "markdown",
   "id": "0f268b91",
   "metadata": {},
   "source": [
    "### 24. Crossing\n",
    "\n",
    "Player's ability to make accurate crosses."
   ]
  },
  {
   "cell_type": "code",
   "execution_count": null,
   "id": "2c1ad7e7",
   "metadata": {},
   "outputs": [],
   "source": []
  },
  {
   "cell_type": "markdown",
   "id": "1f172c76",
   "metadata": {},
   "source": [
    "### 25. Finishing\n",
    "\n",
    "Player's ability to score goals"
   ]
  },
  {
   "cell_type": "code",
   "execution_count": null,
   "id": "09e2cd20",
   "metadata": {},
   "outputs": [],
   "source": []
  },
  {
   "cell_type": "markdown",
   "id": "0f6c072d",
   "metadata": {},
   "source": [
    "### 26. Heading Accuracy\n",
    "\n",
    "Player's ability to win aerial duels."
   ]
  },
  {
   "cell_type": "code",
   "execution_count": null,
   "id": "91d335f4",
   "metadata": {},
   "outputs": [],
   "source": []
  },
  {
   "cell_type": "markdown",
   "id": "119a8d5f",
   "metadata": {},
   "source": [
    "### 27. Short Passing\n",
    "\n",
    "Player's ability to make short passes accurately."
   ]
  },
  {
   "cell_type": "code",
   "execution_count": null,
   "id": "9b528a66",
   "metadata": {},
   "outputs": [],
   "source": []
  },
  {
   "cell_type": "markdown",
   "id": "f34661bc",
   "metadata": {},
   "source": [
    "### 28. Volleys\n",
    "\n",
    "Player's ability to take volleys"
   ]
  },
  {
   "cell_type": "code",
   "execution_count": null,
   "id": "e06ab931",
   "metadata": {},
   "outputs": [],
   "source": []
  },
  {
   "cell_type": "markdown",
   "id": "f1963d65",
   "metadata": {},
   "source": [
    "### 29. Skill\n",
    "\n",
    "Composite rating of the player's technical abilities."
   ]
  },
  {
   "cell_type": "code",
   "execution_count": null,
   "id": "9ba9ff05",
   "metadata": {},
   "outputs": [],
   "source": []
  },
  {
   "cell_type": "markdown",
   "id": "3d4cd229",
   "metadata": {},
   "source": [
    "### 30. Dribbling\n",
    "\n",
    "Player's ability to dribble past defenders."
   ]
  },
  {
   "cell_type": "code",
   "execution_count": null,
   "id": "2897030e",
   "metadata": {},
   "outputs": [],
   "source": []
  },
  {
   "cell_type": "markdown",
   "id": "39abce88",
   "metadata": {},
   "source": [
    "### 31. Curve\n",
    "\n",
    "Player's ability to curve the ball."
   ]
  },
  {
   "cell_type": "code",
   "execution_count": null,
   "id": "406f6f72",
   "metadata": {},
   "outputs": [],
   "source": []
  },
  {
   "cell_type": "markdown",
   "id": "36f2138c",
   "metadata": {},
   "source": [
    "### 32. FK Accuracy\n",
    "\n",
    "Player's ability to take free kicks."
   ]
  },
  {
   "cell_type": "code",
   "execution_count": null,
   "id": "cb4ba690",
   "metadata": {},
   "outputs": [],
   "source": []
  },
  {
   "cell_type": "markdown",
   "id": "b7929710",
   "metadata": {},
   "source": [
    "### 33. Long Passing\n",
    "\n",
    "Player's ability to make long passes accurately."
   ]
  },
  {
   "cell_type": "code",
   "execution_count": null,
   "id": "fef922c1",
   "metadata": {},
   "outputs": [],
   "source": []
  },
  {
   "cell_type": "markdown",
   "id": "55daf863",
   "metadata": {},
   "source": [
    "### 34. Ball Control\n",
    "\n",
    "Player's ability to control the ball."
   ]
  },
  {
   "cell_type": "code",
   "execution_count": null,
   "id": "4d92d057",
   "metadata": {},
   "outputs": [],
   "source": []
  },
  {
   "cell_type": "markdown",
   "id": "33c7ecc3",
   "metadata": {},
   "source": [
    "### 35. Movement\n",
    "\n",
    "Composite rating of the player's movement abilities."
   ]
  },
  {
   "cell_type": "code",
   "execution_count": null,
   "id": "3e7b4d16",
   "metadata": {},
   "outputs": [],
   "source": []
  },
  {
   "cell_type": "markdown",
   "id": "06a55811",
   "metadata": {},
   "source": [
    "### 36. Acceleration\n",
    "\n",
    "Playr's ability to accelerate quickly."
   ]
  },
  {
   "cell_type": "code",
   "execution_count": null,
   "id": "d4676617",
   "metadata": {},
   "outputs": [],
   "source": []
  },
  {
   "cell_type": "markdown",
   "id": "f32302d4",
   "metadata": {},
   "source": [
    "### 37. Sprint Speed\n",
    "\n",
    "Player's top speed"
   ]
  },
  {
   "cell_type": "code",
   "execution_count": null,
   "id": "cba30da9",
   "metadata": {},
   "outputs": [],
   "source": []
  },
  {
   "cell_type": "markdown",
   "id": "6bdb0d82",
   "metadata": {},
   "source": [
    "### 38. Agility\n",
    "\n",
    "Player's agility"
   ]
  },
  {
   "cell_type": "code",
   "execution_count": null,
   "id": "3976dcff",
   "metadata": {},
   "outputs": [],
   "source": []
  },
  {
   "cell_type": "markdown",
   "id": "3d0d0d82",
   "metadata": {},
   "source": [
    "### 39. Reactions\n",
    "\n",
    "Player's reaction time"
   ]
  },
  {
   "cell_type": "code",
   "execution_count": null,
   "id": "a454f24a",
   "metadata": {},
   "outputs": [],
   "source": []
  },
  {
   "cell_type": "markdown",
   "id": "35ac2caa",
   "metadata": {},
   "source": [
    "### 40. Balance\n",
    "\n",
    "Player's balance"
   ]
  },
  {
   "cell_type": "code",
   "execution_count": null,
   "id": "2b3d5693",
   "metadata": {},
   "outputs": [],
   "source": []
  },
  {
   "cell_type": "markdown",
   "id": "897c56b8",
   "metadata": {},
   "source": [
    "### 41. Power\n",
    "\n",
    "Composite rating of player's physical abilities"
   ]
  },
  {
   "cell_type": "code",
   "execution_count": null,
   "id": "67972236",
   "metadata": {},
   "outputs": [],
   "source": []
  },
  {
   "cell_type": "markdown",
   "id": "4030412a",
   "metadata": {},
   "source": [
    "### 42. Shot Power\n",
    "\n",
    "Player's ability to shoot with power"
   ]
  },
  {
   "cell_type": "code",
   "execution_count": null,
   "id": "ae1bd104",
   "metadata": {},
   "outputs": [],
   "source": []
  },
  {
   "cell_type": "markdown",
   "id": "4924b843",
   "metadata": {},
   "source": [
    "### 43. Jumping\n",
    "\n",
    "Player's ability to jump high"
   ]
  },
  {
   "cell_type": "code",
   "execution_count": null,
   "id": "2f2bf916",
   "metadata": {},
   "outputs": [],
   "source": []
  },
  {
   "cell_type": "markdown",
   "id": "097bb3ab",
   "metadata": {},
   "source": [
    "### 44. Stamina\n",
    "\n",
    "Player's stamina."
   ]
  },
  {
   "cell_type": "code",
   "execution_count": null,
   "id": "cfcbf691",
   "metadata": {},
   "outputs": [],
   "source": []
  },
  {
   "cell_type": "markdown",
   "id": "f2ca2511",
   "metadata": {},
   "source": [
    "### 45. Strength\n",
    "\n",
    "Player's physical strength."
   ]
  },
  {
   "cell_type": "code",
   "execution_count": null,
   "id": "3b15baef",
   "metadata": {},
   "outputs": [],
   "source": []
  },
  {
   "cell_type": "markdown",
   "id": "dd48c345",
   "metadata": {},
   "source": [
    "### 46. Long Shots\n",
    "\n",
    "Player's ability to score from long range"
   ]
  },
  {
   "cell_type": "code",
   "execution_count": null,
   "id": "74508035",
   "metadata": {},
   "outputs": [],
   "source": []
  },
  {
   "cell_type": "markdown",
   "id": "a739a791",
   "metadata": {},
   "source": [
    "### 47. Mentality\n",
    "\n",
    "Composite rating of the player's mental abilities."
   ]
  },
  {
   "cell_type": "code",
   "execution_count": null,
   "id": "e62084b6",
   "metadata": {},
   "outputs": [],
   "source": []
  },
  {
   "cell_type": "markdown",
   "id": "37e6d231",
   "metadata": {},
   "source": [
    "### 48. Aggression\n",
    "\n",
    "Player's aggression on the field."
   ]
  },
  {
   "cell_type": "code",
   "execution_count": null,
   "id": "4f8f11c7",
   "metadata": {},
   "outputs": [],
   "source": []
  },
  {
   "cell_type": "markdown",
   "id": "062b6826",
   "metadata": {},
   "source": [
    "### 49. Interceptions\n",
    "\n",
    "Player's ability to intercept passes."
   ]
  },
  {
   "cell_type": "code",
   "execution_count": null,
   "id": "54c51db8",
   "metadata": {},
   "outputs": [],
   "source": []
  },
  {
   "cell_type": "markdown",
   "id": "d2db0b30",
   "metadata": {},
   "source": [
    "### 50. Positioning\n",
    "\n",
    "Player's ability to position themselves well on the field."
   ]
  },
  {
   "cell_type": "code",
   "execution_count": null,
   "id": "d7d0ea0f",
   "metadata": {},
   "outputs": [],
   "source": []
  },
  {
   "cell_type": "markdown",
   "id": "17ff0bd7",
   "metadata": {},
   "source": [
    "### 51. Vision\n",
    "\n",
    "Players ability to see and execute passes."
   ]
  },
  {
   "cell_type": "code",
   "execution_count": null,
   "id": "8933ab14",
   "metadata": {},
   "outputs": [],
   "source": []
  },
  {
   "cell_type": "markdown",
   "id": "624247b9",
   "metadata": {},
   "source": [
    "### 52. Penalties\n",
    "\n",
    "Player's ability to score penalties."
   ]
  },
  {
   "cell_type": "code",
   "execution_count": null,
   "id": "b473c292",
   "metadata": {},
   "outputs": [],
   "source": []
  },
  {
   "cell_type": "markdown",
   "id": "97f20ee9",
   "metadata": {},
   "source": [
    "### 53. Composure\n",
    "\n",
    "Player's composure under pressure."
   ]
  },
  {
   "cell_type": "code",
   "execution_count": null,
   "id": "c76aea26",
   "metadata": {},
   "outputs": [],
   "source": []
  },
  {
   "cell_type": "markdown",
   "id": "3ebc4e77",
   "metadata": {},
   "source": [
    "### 54. Defending\n",
    "\n",
    "Composite rating of the player's defensive abilities."
   ]
  },
  {
   "cell_type": "code",
   "execution_count": null,
   "id": "abf2e9b4",
   "metadata": {},
   "outputs": [],
   "source": []
  },
  {
   "cell_type": "markdown",
   "id": "2984f896",
   "metadata": {},
   "source": [
    "### 55. Marking\n",
    "\n",
    "Player's ability to mark opposing players."
   ]
  },
  {
   "cell_type": "code",
   "execution_count": null,
   "id": "1b313801",
   "metadata": {},
   "outputs": [],
   "source": []
  },
  {
   "cell_type": "markdown",
   "id": "2726f4c8",
   "metadata": {},
   "source": [
    "### 56. Standing Tackle\n",
    "\n",
    "Player's ability to make standing tackles."
   ]
  },
  {
   "cell_type": "code",
   "execution_count": null,
   "id": "2f9af453",
   "metadata": {},
   "outputs": [],
   "source": []
  },
  {
   "cell_type": "markdown",
   "id": "75375c36",
   "metadata": {},
   "source": [
    "### 57. Sliding Tackle\n",
    "\n",
    "Player's ability to make sliding tackles."
   ]
  },
  {
   "cell_type": "code",
   "execution_count": null,
   "id": "57cc8f10",
   "metadata": {},
   "outputs": [],
   "source": []
  },
  {
   "cell_type": "markdown",
   "id": "3d8bc7e3",
   "metadata": {},
   "source": [
    "### 58. Goalkeeping\n",
    "\n",
    "Composite rating of the player's goalkeeping abilities. Only for goalkeepers"
   ]
  },
  {
   "cell_type": "code",
   "execution_count": null,
   "id": "79cf0370",
   "metadata": {},
   "outputs": [],
   "source": []
  },
  {
   "cell_type": "markdown",
   "id": "c8a087fb",
   "metadata": {},
   "source": [
    "### 59. GK Diving\n",
    "\n",
    "Goalkeeper's ability to dive to make saves."
   ]
  },
  {
   "cell_type": "code",
   "execution_count": null,
   "id": "dd3811fd",
   "metadata": {},
   "outputs": [],
   "source": []
  },
  {
   "cell_type": "markdown",
   "id": "3a1d3d9b",
   "metadata": {},
   "source": [
    "### 60. GK Handling\n",
    "\n",
    "Goalkeeper's ability to handle the ball"
   ]
  },
  {
   "cell_type": "code",
   "execution_count": null,
   "id": "34b359e0",
   "metadata": {},
   "outputs": [],
   "source": []
  },
  {
   "cell_type": "markdown",
   "id": "67f5d859",
   "metadata": {},
   "source": [
    "### 61. GK Kicking\n",
    "\n",
    "Goalkeeper's ability to kick the ball."
   ]
  },
  {
   "cell_type": "code",
   "execution_count": null,
   "id": "fa510f25",
   "metadata": {},
   "outputs": [],
   "source": []
  },
  {
   "cell_type": "markdown",
   "id": "c07d8263",
   "metadata": {},
   "source": [
    "### 62. GK Positioning\n",
    "\n",
    "Goalkeeper's ability to position themselves well."
   ]
  },
  {
   "cell_type": "code",
   "execution_count": null,
   "id": "e842367a",
   "metadata": {},
   "outputs": [],
   "source": []
  },
  {
   "cell_type": "markdown",
   "id": "31ca2c85",
   "metadata": {},
   "source": [
    "### 63. GK Reflexes\n",
    "\n",
    "Goalkeeper's reflexes"
   ]
  },
  {
   "cell_type": "code",
   "execution_count": null,
   "id": "efbfc868",
   "metadata": {},
   "outputs": [],
   "source": []
  },
  {
   "cell_type": "markdown",
   "id": "36560c78",
   "metadata": {},
   "source": [
    "### 64. Total Stats\n",
    "\n",
    "Total number of stats in the game"
   ]
  },
  {
   "cell_type": "code",
   "execution_count": null,
   "id": "69cdbbe3",
   "metadata": {},
   "outputs": [],
   "source": []
  },
  {
   "cell_type": "markdown",
   "id": "9ae3d52f",
   "metadata": {},
   "source": [
    "### 65. Base Stats\n",
    "\n",
    "Number of stats used to calculate the player's overall rating."
   ]
  },
  {
   "cell_type": "code",
   "execution_count": null,
   "id": "328374ac",
   "metadata": {},
   "outputs": [],
   "source": []
  },
  {
   "cell_type": "markdown",
   "id": "8a07ba01",
   "metadata": {},
   "source": [
    "### 66. W/F\n",
    "\n",
    "Player's weak foot rating (out of 5)"
   ]
  },
  {
   "cell_type": "code",
   "execution_count": null,
   "id": "f4ec3c17",
   "metadata": {},
   "outputs": [],
   "source": []
  },
  {
   "cell_type": "markdown",
   "id": "9b8947ee",
   "metadata": {},
   "source": [
    "### 67. SM\n",
    "\n",
    "Player's skill moves rating (out of 5)"
   ]
  },
  {
   "cell_type": "code",
   "execution_count": null,
   "id": "03bf1015",
   "metadata": {},
   "outputs": [],
   "source": []
  },
  {
   "cell_type": "markdown",
   "id": "005334e3",
   "metadata": {},
   "source": [
    "### 68. A/W\n",
    "\n",
    "Player's attacking work rate (low, medium or high)"
   ]
  },
  {
   "cell_type": "code",
   "execution_count": null,
   "id": "1ebd39a3",
   "metadata": {},
   "outputs": [],
   "source": []
  },
  {
   "cell_type": "markdown",
   "id": "905d6d76",
   "metadata": {},
   "source": [
    "### 69. D/W\n",
    "\n",
    "Player's defensive work rate (low, medium or high)"
   ]
  },
  {
   "cell_type": "code",
   "execution_count": null,
   "id": "942b266b",
   "metadata": {},
   "outputs": [],
   "source": []
  },
  {
   "cell_type": "markdown",
   "id": "e0ac8c9f",
   "metadata": {},
   "source": [
    "### 70. IR\n",
    "\n",
    "Player's injury resistance rating (out of 3)"
   ]
  },
  {
   "cell_type": "code",
   "execution_count": null,
   "id": "32469393",
   "metadata": {},
   "outputs": [],
   "source": []
  },
  {
   "cell_type": "markdown",
   "id": "17fbd7ee",
   "metadata": {},
   "source": [
    "### 71. PAC\n",
    "\n",
    "Player's pace attribute rating(0-100).\n",
    "\n",
    "It measures the player's speed on the pitch, including their acceleration and sprinting ability. \n",
    "\n",
    "A higher PAC value indicates that the player is faster."
   ]
  },
  {
   "cell_type": "code",
   "execution_count": null,
   "id": "373c13cf",
   "metadata": {},
   "outputs": [],
   "source": []
  },
  {
   "cell_type": "markdown",
   "id": "31022d31",
   "metadata": {},
   "source": [
    "### 72. SHO\n",
    "\n",
    "Player's shooting attribute rating.(0-100)"
   ]
  },
  {
   "cell_type": "code",
   "execution_count": null,
   "id": "ed9eea7b",
   "metadata": {},
   "outputs": [],
   "source": []
  },
  {
   "cell_type": "markdown",
   "id": "029d7ada",
   "metadata": {},
   "source": [
    "### 73. PAS\n",
    "\n",
    "Player's passing attribute rating.(0-100)"
   ]
  },
  {
   "cell_type": "code",
   "execution_count": null,
   "id": "1080f952",
   "metadata": {},
   "outputs": [],
   "source": []
  },
  {
   "cell_type": "markdown",
   "id": "b0e661e5",
   "metadata": {},
   "source": [
    "### 74. DRI\n",
    "\n",
    "Player's dribbling attribute rating.(0-100)"
   ]
  },
  {
   "cell_type": "code",
   "execution_count": null,
   "id": "742ca016",
   "metadata": {},
   "outputs": [],
   "source": []
  },
  {
   "cell_type": "markdown",
   "id": "7e459d18",
   "metadata": {},
   "source": [
    "### 75. DEF\n",
    "\n",
    "Player's defending attribute rating."
   ]
  },
  {
   "cell_type": "code",
   "execution_count": null,
   "id": "b43f2134",
   "metadata": {},
   "outputs": [],
   "source": []
  },
  {
   "cell_type": "markdown",
   "id": "abf95301",
   "metadata": {},
   "source": [
    "### 76. PHY\n",
    "\n",
    "Player's physical attribute rating."
   ]
  },
  {
   "cell_type": "code",
   "execution_count": null,
   "id": "84fbf8cb",
   "metadata": {},
   "outputs": [],
   "source": []
  },
  {
   "cell_type": "markdown",
   "id": "1d58fb06",
   "metadata": {},
   "source": [
    "### 77. Hits\n",
    "\n",
    "Number of times the player has been searched for in the FIFA database."
   ]
  },
  {
   "cell_type": "code",
   "execution_count": null,
   "id": "de20ec49",
   "metadata": {},
   "outputs": [],
   "source": []
  },
  {
   "cell_type": "markdown",
   "id": "2129689a",
   "metadata": {},
   "source": [
    "### Look at dtypes of all columns"
   ]
  },
  {
   "cell_type": "code",
   "execution_count": null,
   "id": "3fdbe78e",
   "metadata": {},
   "outputs": [],
   "source": []
  }
 ],
 "metadata": {
  "kernelspec": {
   "display_name": "Python 3 (ipykernel)",
   "language": "python",
   "name": "python3"
  },
  "language_info": {
   "codemirror_mode": {
    "name": "ipython",
    "version": 3
   },
   "file_extension": ".py",
   "mimetype": "text/x-python",
   "name": "python",
   "nbconvert_exporter": "python",
   "pygments_lexer": "ipython3",
   "version": "3.9.12"
  }
 },
 "nbformat": 4,
 "nbformat_minor": 5
}
